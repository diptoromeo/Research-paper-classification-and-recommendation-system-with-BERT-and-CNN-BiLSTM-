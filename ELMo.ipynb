{
  "nbformat": 4,
  "nbformat_minor": 0,
  "metadata": {
    "colab": {
      "provenance": [],
      "gpuType": "T4",
      "authorship_tag": "ABX9TyPakAXbfciZDlUj81btD1PD",
      "include_colab_link": true
    },
    "kernelspec": {
      "name": "python3",
      "display_name": "Python 3"
    },
    "language_info": {
      "name": "python"
    },
    "accelerator": "GPU"
  },
  "cells": [
    {
      "cell_type": "markdown",
      "metadata": {
        "id": "view-in-github",
        "colab_type": "text"
      },
      "source": [
        "<a href=\"https://colab.research.google.com/github/diptoromeo/Research-paper-classification-and-recommendation-system-with-BERT-and-CNN-BiLSTM-/blob/main/ELMo.ipynb\" target=\"_parent\"><img src=\"https://colab.research.google.com/assets/colab-badge.svg\" alt=\"Open In Colab\"/></a>"
      ]
    },
    {
      "cell_type": "code",
      "execution_count": 2,
      "metadata": {
        "colab": {
          "base_uri": "https://localhost:8080/"
        },
        "id": "YLCJ10p0RBHo",
        "outputId": "59d3142c-3cfe-4b6b-a946-2d99085cf5af"
      },
      "outputs": [
        {
          "output_type": "stream",
          "name": "stdout",
          "text": [
            "2.14.0\n",
            "[name: \"/device:CPU:0\"\n",
            "device_type: \"CPU\"\n",
            "memory_limit: 268435456\n",
            "locality {\n",
            "}\n",
            "incarnation: 12366125872142117970\n",
            "xla_global_id: -1\n",
            ", name: \"/device:GPU:0\"\n",
            "device_type: \"GPU\"\n",
            "memory_limit: 14357954560\n",
            "locality {\n",
            "  bus_id: 1\n",
            "  links {\n",
            "  }\n",
            "}\n",
            "incarnation: 12869870668983119989\n",
            "physical_device_desc: \"device: 0, name: Tesla T4, pci bus id: 0000:00:04.0, compute capability: 7.5\"\n",
            "xla_global_id: 416903419\n",
            "]\n"
          ]
        }
      ],
      "source": [
        "import random\n",
        "\n",
        "import keras.models\n",
        "import matplotlib.pyplot as plt\n",
        "import seaborn as sns\n",
        "import nltk\n",
        "import os\n",
        "import pandas as pd\n",
        "import regex\n",
        "import numpy as np\n",
        "from sklearn.model_selection import train_test_split\n",
        "os.environ['TF_CPP_MIN_LOG_LEVEL'] = '3'\n",
        "from nltk.corpus import stopwords\n",
        "from nltk.stem import WordNetLemmatizer\n",
        "from string import punctuation\n",
        "import tensorflow as tf\n",
        "from keras.models import Model\n",
        "from keras.layers import Dense, Lambda, Input\n",
        "import tensorflow_hub as hub\n",
        "import tensorflow.compat.v1 as tf\n",
        "tf.disable_eager_execution()\n",
        "from sklearn.metrics import accuracy_score, precision_score, recall_score, f1_score\n",
        "\n",
        "from tensorflow.python.client import device_lib\n",
        "\n",
        "import timeit\n",
        "\n",
        "print(tf.__version__)\n",
        "\n",
        "\n",
        "\n",
        "print(device_lib.list_local_devices())\n"
      ]
    },
    {
      "cell_type": "code",
      "source": [
        "##===============================Nltk abstract_words tokenize======================================\n",
        "with open('/content/FGFSJournal.txt', 'rt', encoding='UTF8') as file:\n",
        "    FGFS_abstract = []\n",
        "    for line in file:\n",
        "        if '<abstract>' in line:\n",
        "            abstract = line.split('</abstract>')[0].split('<abstract>')[-1]\n",
        "            abstract = ''.join(i for i in abstract if not i.isdigit()).lower()\n",
        "            FGFS_abstract.append(abstract)\n",
        "\n",
        "print(len(FGFS_abstract))"
      ],
      "metadata": {
        "colab": {
          "base_uri": "https://localhost:8080/"
        },
        "id": "sDZ5C_5JT7bJ",
        "outputId": "2139b4b4-efb6-490a-e06d-19570f3ac21e"
      },
      "execution_count": 10,
      "outputs": [
        {
          "output_type": "stream",
          "name": "stdout",
          "text": [
            "5659\n"
          ]
        }
      ]
    },
    {
      "cell_type": "code",
      "source": [
        "random.shuffle(FGFS_abstract)\n",
        "train_data = FGFS_abstract[:4527]\n",
        "test_data = FGFS_abstract[4527:]\n",
        "print(\"train data:\", len(train_data))\n",
        "print(\"test data:\", len(test_data))\n",
        "\n",
        "train, valid = train_test_split(train_data, test_size=0.25, random_state=42)\n",
        "print(\"train:\", len(train))\n",
        "print(\"valid:\", len(valid))"
      ],
      "metadata": {
        "colab": {
          "base_uri": "https://localhost:8080/"
        },
        "id": "EFyLex7LVgvg",
        "outputId": "7b6f517d-3133-4e13-bd16-8b16b2e57bca"
      },
      "execution_count": 13,
      "outputs": [
        {
          "output_type": "stream",
          "name": "stdout",
          "text": [
            "train data: 4527\n",
            "test data: 1132\n",
            "train: 3395\n",
            "valid: 1132\n"
          ]
        }
      ]
    },
    {
      "cell_type": "code",
      "source": [
        "#======================================================train_labels==========================================================================\n",
        "ten_words = ['paper', 'system', 'performance', 'network', 'model', 'service', 'time', 'information', 'approach', 'cloud']\n",
        "twenty_words = ['paper', 'system', 'performance', 'network', 'model', 'service', 'time', 'information', 'approach', 'cloud',\n",
        "                'problem', 'process', 'security', 'analysis', 'application', 'method', 'research', 'framework', 'number', 'resource']\n",
        "thirty_words = ['paper', 'system', 'performance', 'network', 'model', 'service', 'time', 'information', 'approach', 'cloud',\n",
        "                'problem', 'process', 'security', 'analysis', 'application', 'method', 'research', 'framework', 'number', 'resource',\n",
        "               'environment', 'algorithm', 'energy', 'management', 'architecture', 'access', 'scheme', 'communication', 'execution', 'order']\n",
        "\n",
        "train_count = 2\n",
        "valid_count = 3\n",
        "test_count = 3\n",
        "\n",
        "train10_labels = []\n",
        "for i in range(0, 3395):\n",
        "    count = 0\n",
        "    for j in range(0, len(ten_words)):\n",
        "      if ten_words[j] in train[i]:\n",
        "            count += 1\n",
        "    if count >=train_count:\n",
        "        train10_labels.append(1)\n",
        "    else:\n",
        "        train10_labels.append(0)\n",
        "\n",
        "\n",
        "##====valid labels==================\n",
        "valid10_labels = []\n",
        "for i in range(0, 1132): #1132\n",
        "\n",
        "    count = 0\n",
        "    for j in range(0, len(ten_words)):\n",
        "        if ten_words[j] in valid[i]:\n",
        "            count += 1\n",
        "    if count >=valid_count:\n",
        "        valid10_labels.append(1)\n",
        "    else:\n",
        "        valid10_labels.append(0)\n",
        "\n",
        "\n",
        "##====test labels====================\n",
        "test10_labels = []\n",
        "for i in range(0, 1132):\n",
        "\n",
        "    count = 0\n",
        "    for j in range(0, len(ten_words)):\n",
        "        if ten_words[j] in test_data[i]:\n",
        "            count += 1\n",
        "    if count >=test_count:\n",
        "        test10_labels.append(1)\n",
        "    else:\n",
        "        test10_labels.append(0)\n",
        "\n",
        "\n",
        "#====================================20wordstrain_labels====================================\n",
        "train_count = 3\n",
        "valid_count = 4\n",
        "test_count = 4\n",
        "\n",
        "train20_labels = []\n",
        "for i in range(0, 3395):\n",
        "    count = 0\n",
        "    for j in range(0, len(twenty_words)):\n",
        "        if twenty_words[j] in train[i]:\n",
        "            count += 1\n",
        "    if count >=train_count:\n",
        "        train20_labels.append(1)\n",
        "    else:\n",
        "        train20_labels.append(0)\n",
        "\n",
        "\n",
        "##====valid labels============================\n",
        "valid20_labels = []\n",
        "for i in range(0, 1132): #1132\n",
        "\n",
        "    count = 0\n",
        "    for j in range(0, len(twenty_words)):\n",
        "        if twenty_words[j] in valid[i]:\n",
        "            count += 1\n",
        "    if count >=valid_count:\n",
        "        valid20_labels.append(1)\n",
        "    else:\n",
        "        valid20_labels.append(0)\n",
        "\n",
        "\n",
        "##===test labels==============================\n",
        "test20_labels = []\n",
        "for i in range(0, 1132):\n",
        "\n",
        "    count = 0\n",
        "    for j in range(0, len(twenty_words)):\n",
        "        if twenty_words[j] in test_data[i]:\n",
        "            count += 1\n",
        "    if count >=test_count:\n",
        "        test20_labels.append(1)\n",
        "    else:\n",
        "        test20_labels.append(0)\n",
        "\n",
        "\n",
        "#====================================30Words_train_labels====================================\n",
        "train_count = 3\n",
        "valid_count = 4\n",
        "test_count = 4\n",
        "\n",
        "train30_labels = []\n",
        "for i in range(0, 3395):\n",
        "    count = 0\n",
        "    for j in range(0, len(thirty_words)):\n",
        "        if thirty_words[j] in train[i]:\n",
        "            count += 1\n",
        "    if count >=train_count:\n",
        "        train30_labels.append(1)\n",
        "    else:\n",
        "        train30_labels.append(0)\n",
        "\n",
        "\n",
        "##====valid labels==========================\n",
        "valid30_labels = []\n",
        "for i in range(0, 1132): #1132\n",
        "\n",
        "    count = 0\n",
        "    for j in range(0, len(thirty_words)):\n",
        "        if thirty_words[j] in valid[i]:\n",
        "            count += 1\n",
        "    if count >=valid_count:\n",
        "        valid30_labels.append(1)\n",
        "    else:\n",
        "        valid30_labels.append(0)\n",
        "\n",
        "\n",
        "##====test labels==========================\n",
        "test30_labels = []\n",
        "for i in range(0, 1132):\n",
        "\n",
        "    count = 0\n",
        "    for j in range(0, len(thirty_words)):\n",
        "        if thirty_words[j] in test_data[i]:\n",
        "            count += 1\n",
        "    if count >=test_count:\n",
        "        test30_labels.append(1)\n",
        "    else:\n",
        "        test30_labels.append(0)"
      ],
      "metadata": {
        "id": "QOIGMnKnVs--"
      },
      "execution_count": 21,
      "outputs": []
    },
    {
      "cell_type": "code",
      "source": [
        "## =============== get elmo from tensorflow hub==============================================\n",
        "## Load pre trained ELMo model\n",
        "elmo = hub.Module(\"https://tfhub.dev/google/elmo/3\", trainable=True)\n",
        "\n",
        "## create an instance of ELMo\n",
        "## 데이터의 이동이 케라스 → 텐서플로우 → 케라스가 되도록 하는 함수\n",
        "def ELMoEmbedding(x):\n",
        "    return elmo(tf.squeeze # 차원 중 사이즈 1인 것을 찾아서 재거한다.\n",
        "                (tf.cast # tf.cast()는 배열의 dtype을 변경해 준다.\n",
        "                (x, tf.string)),\n",
        "                as_dict=True, # 여러 입력이 있는 경우 as_dict를 통해 전달해야 한다.\n",
        "                signature=\"default\")[\"default\"] # signature 선택 사항에 이름을 전달하여 선택할 수 있습니다."
      ],
      "metadata": {
        "id": "CFlmSrHGWH-o"
      },
      "execution_count": 15,
      "outputs": []
    },
    {
      "cell_type": "code",
      "source": [
        "X_train, x_valid = train_test_split(train_data, test_size=0.25, random_state=42)\n",
        "\n",
        "X_train = np.asarray(X_train)\n",
        "y10_train = np.asarray(train10_labels)\n",
        "y20_train = np.asarray(train20_labels)\n",
        "y30_train = np.asarray(train30_labels)\n",
        "x_valid = np.asarray(x_valid)\n",
        "y10_valid = np.asarray(valid10_labels)\n",
        "y20_valid = np.asarray(valid20_labels)\n",
        "y30_valid = np.asarray(valid30_labels)\n",
        "X_test = np.asarray(test_data)\n",
        "y10_test = np.asarray(test10_labels)\n",
        "y20_test = np.asarray(test20_labels)\n",
        "y30_test = np.asarray(test30_labels)"
      ],
      "metadata": {
        "id": "xLwOJdHfWNrs"
      },
      "execution_count": 22,
      "outputs": []
    },
    {
      "cell_type": "code",
      "source": [
        "###===============================model build=============================\n",
        "epochs = 10\n",
        "batch_sizes = 16\n",
        "validation_splits = 0.33\n",
        "\n",
        "\n",
        "# Build Model\n",
        "input_text = Input(shape=(1,), dtype=tf.string)\n",
        "embedding = Lambda(ELMoEmbedding, output_shape=(1024, ))(input_text)\n",
        "dense = Dense(128, activation='relu')(embedding)\n",
        "pred = Dense(1, activation='softmax')(dense)\n",
        "model = Model(inputs=[input_text], outputs=pred)\n",
        "model.compile(loss='binary_crossentropy', optimizer='adam', metrics=['accuracy'])\n",
        "model.summary()\n",
        "\n",
        "##Calling `save('my_model')` creates a SavedModel folder `my_model`.\n",
        "model.save(\"ElMo_model.h5\")\n",
        "\n",
        "# It can be used to reconstruct the model identically.\n",
        "ElMo_model = keras.models.load_model(\"ElMo_model.h5\")\n",
        "\n",
        "with tf.Session() as sess:\n",
        "    sess.run(tf.global_variables_initializer())\n",
        "    sess.run(tf.tables_initializer())\n",
        "    history10 = model.fit(X_train, y10_train, validation_data=(x_valid, y10_valid), epochs=epochs, batch_size=batch_sizes)\n",
        "\n",
        "    ELMo10_Accuracy = model.evaluate(X_train, y10_train, verbose=1)\n",
        "    print(('ELMo_Accuracy: %f' % (ELMo10_Accuracy[1] * 100)))\n",
        "\n",
        "\n",
        "hist_df = pd.DataFrame(history10.history)\n",
        "hist_df.to_excel(\"ELMo_train_test_acc.xlsx\", index=False)\n",
        "\n"
      ],
      "metadata": {
        "colab": {
          "base_uri": "https://localhost:8080/"
        },
        "id": "lWJsz9pNWoTB",
        "outputId": "5e85a4d7-dc1e-4d4b-d4d7-1b4f6b386152"
      },
      "execution_count": 17,
      "outputs": [
        {
          "output_type": "stream",
          "name": "stdout",
          "text": [
            "Model: \"model\"\n",
            "_________________________________________________________________\n",
            " Layer (type)                Output Shape              Param #   \n",
            "=================================================================\n",
            " input_1 (InputLayer)        [(None, 1)]               0         \n",
            "                                                                 \n",
            " lambda (Lambda)             (None, 1024)              0         \n",
            "                                                                 \n",
            " dense (Dense)               (None, 128)               131200    \n",
            "                                                                 \n",
            " dense_1 (Dense)             (None, 1)                 129       \n",
            "                                                                 \n",
            "=================================================================\n",
            "Total params: 131329 (513.00 KB)\n",
            "Trainable params: 131329 (513.00 KB)\n",
            "Non-trainable params: 0 (0.00 Byte)\n",
            "_________________________________________________________________\n"
          ]
        },
        {
          "output_type": "stream",
          "name": "stderr",
          "text": [
            "/usr/local/lib/python3.10/dist-packages/keras/src/engine/training.py:3079: UserWarning: You are saving your model as an HDF5 file via `model.save()`. This file format is considered legacy. We recommend using instead the native Keras format, e.g. `model.save('my_model.keras')`.\n",
            "  saving_api.save_model(\n"
          ]
        },
        {
          "output_type": "stream",
          "name": "stdout",
          "text": [
            "Train on 3395 samples, validate on 1132 samples\n",
            "Epoch 1/10\n",
            "3395/3395 [==============================] - ETA: 0s - loss: 0.2767 - accuracy: 0.9108"
          ]
        },
        {
          "output_type": "stream",
          "name": "stderr",
          "text": [
            "/usr/local/lib/python3.10/dist-packages/keras/src/engine/training_v1.py:2335: UserWarning: `Model.state_updates` will be removed in a future version. This property should not be used in TensorFlow 2.0, as `updates` are applied automatically.\n",
            "  updates = self.state_updates\n"
          ]
        },
        {
          "output_type": "stream",
          "name": "stdout",
          "text": [
            "\b\b\b\b\b\b\b\b\b\b\b\b\b\b\b\b\b\b\b\b\b\b\b\b\b\b\b\b\b\b\b\b\b\b\b\b\b\b\b\b\b\b\b\b\b\b\b\b\b\b\b\b\b\b\b\b\b\b\b\b\b\b\b\b\b\b\b\b\b\b\b\b\b\b\b\b\b\b\b\b\b\b\b\b\b\b\r3395/3395 [==============================] - 431s 127ms/sample - loss: 0.2767 - accuracy: 0.9108 - val_loss: 0.5572 - val_accuracy: 0.7553\n",
            "Epoch 2/10\n",
            "3395/3395 [==============================] - 294s 87ms/sample - loss: 0.2481 - accuracy: 0.9108 - val_loss: 0.6265 - val_accuracy: 0.7553\n",
            "Epoch 3/10\n",
            "3395/3395 [==============================] - 285s 84ms/sample - loss: 0.2359 - accuracy: 0.9108 - val_loss: 0.6097 - val_accuracy: 0.7553\n",
            "Epoch 4/10\n",
            "3395/3395 [==============================] - 283s 83ms/sample - loss: 0.2283 - accuracy: 0.9108 - val_loss: 0.7134 - val_accuracy: 0.7553\n",
            "Epoch 5/10\n",
            "3395/3395 [==============================] - 282s 83ms/sample - loss: 0.2214 - accuracy: 0.9108 - val_loss: 0.7160 - val_accuracy: 0.7553\n",
            "Epoch 6/10\n",
            "3395/3395 [==============================] - 283s 83ms/sample - loss: 0.2126 - accuracy: 0.9108 - val_loss: 0.6297 - val_accuracy: 0.7553\n",
            "Epoch 7/10\n",
            "3395/3395 [==============================] - 281s 83ms/sample - loss: 0.2049 - accuracy: 0.9108 - val_loss: 0.4474 - val_accuracy: 0.7553\n",
            "Epoch 8/10\n",
            "3395/3395 [==============================] - 281s 83ms/sample - loss: 0.2008 - accuracy: 0.9108 - val_loss: 0.6737 - val_accuracy: 0.7553\n",
            "Epoch 9/10\n",
            "3395/3395 [==============================] - 282s 83ms/sample - loss: 0.1918 - accuracy: 0.9108 - val_loss: 0.4841 - val_accuracy: 0.7553\n",
            "Epoch 10/10\n",
            "3395/3395 [==============================] - 283s 83ms/sample - loss: 0.1925 - accuracy: 0.9108 - val_loss: 0.4809 - val_accuracy: 0.7553\n",
            "ELMo_Accuracy: 91.075110\n"
          ]
        }
      ]
    },
    {
      "cell_type": "code",
      "source": [
        "with tf.Session() as sess:\n",
        "    sess.run(tf.global_variables_initializer())\n",
        "    sess.run(tf.tables_initializer())\n",
        "    history20 = model.fit(X_train, y20_train, validation_data=(x_valid, y20_valid), epochs=epochs, batch_size=batch_sizes)\n",
        "\n",
        "    ELMo20_Accuracy = model.evaluate(X_train, y20_train, verbose=1)\n",
        "    print(('ELMo_Accuracy: %f' % (ELMo20_Accuracy[1] * 100)))\n",
        "\n",
        "hist_df = pd.DataFrame(history20.history)\n",
        "hist_df.to_excel(\"ELMo20_train_test_acc.xlsx\", index=False)\n"
      ],
      "metadata": {
        "colab": {
          "base_uri": "https://localhost:8080/"
        },
        "id": "8xy3cMETAQaH",
        "outputId": "3b651549-8557-4e2f-99dd-ee717ad34665"
      },
      "execution_count": 18,
      "outputs": [
        {
          "output_type": "stream",
          "name": "stdout",
          "text": [
            "Train on 3395 samples, validate on 1132 samples\n",
            "Epoch 1/10\n",
            "3395/3395 [==============================] - 300s 88ms/sample - loss: 0.1961 - accuracy: 0.9432 - val_loss: 0.4516 - val_accuracy: 0.8763\n",
            "Epoch 2/10\n",
            "3395/3395 [==============================] - 288s 85ms/sample - loss: 0.1738 - accuracy: 0.9432 - val_loss: 0.4360 - val_accuracy: 0.8763\n",
            "Epoch 3/10\n",
            "3395/3395 [==============================] - 288s 85ms/sample - loss: 0.1610 - accuracy: 0.9432 - val_loss: 0.4783 - val_accuracy: 0.8763\n",
            "Epoch 4/10\n",
            "3395/3395 [==============================] - 288s 85ms/sample - loss: 0.1583 - accuracy: 0.9432 - val_loss: 0.3387 - val_accuracy: 0.8763\n",
            "Epoch 5/10\n",
            "3395/3395 [==============================] - 287s 85ms/sample - loss: 0.1466 - accuracy: 0.9432 - val_loss: 0.3648 - val_accuracy: 0.8763\n",
            "Epoch 6/10\n",
            "3395/3395 [==============================] - 283s 83ms/sample - loss: 0.1420 - accuracy: 0.9432 - val_loss: 0.3592 - val_accuracy: 0.8763\n",
            "Epoch 7/10\n",
            "3395/3395 [==============================] - 284s 84ms/sample - loss: 0.1414 - accuracy: 0.9432 - val_loss: 0.4701 - val_accuracy: 0.8763\n",
            "Epoch 8/10\n",
            "3395/3395 [==============================] - 286s 84ms/sample - loss: 0.1312 - accuracy: 0.9432 - val_loss: 0.5129 - val_accuracy: 0.8763\n",
            "Epoch 9/10\n",
            "3395/3395 [==============================] - 287s 84ms/sample - loss: 0.1260 - accuracy: 0.9432 - val_loss: 0.3982 - val_accuracy: 0.8763\n",
            "Epoch 10/10\n",
            "3395/3395 [==============================] - 293s 86ms/sample - loss: 0.1262 - accuracy: 0.9432 - val_loss: 0.3342 - val_accuracy: 0.8763\n",
            "ELMo_Accuracy: 94.315171\n"
          ]
        }
      ]
    },
    {
      "cell_type": "code",
      "source": [
        "with tf.Session() as sess:\n",
        "    sess.run(tf.global_variables_initializer())\n",
        "    sess.run(tf.tables_initializer())\n",
        "    history30 = model.fit(X_train, y30_train, validation_data=(x_valid, y30_valid), epochs=epochs, batch_size=batch_sizes)\n",
        "\n",
        "    ELMo30_Accuracy = model.evaluate(X_train, y30_train, verbose=1)\n",
        "    print(('ELMo_Accuracy: %f' % (ELMo30_Accuracy[1] * 100)))\n",
        "\n",
        "\n",
        "hist_df = pd.DataFrame(history30.history)\n",
        "hist_df.to_excel(\"ELMo30_train_test_acc.xlsx\", index=False)"
      ],
      "metadata": {
        "colab": {
          "base_uri": "https://localhost:8080/"
        },
        "id": "2onWa0uLAbbw",
        "outputId": "255724ba-126b-482e-a557-54b1f682cf66"
      },
      "execution_count": 23,
      "outputs": [
        {
          "output_type": "stream",
          "name": "stdout",
          "text": [
            "Train on 3395 samples, validate on 1132 samples\n",
            "Epoch 1/10\n",
            "3395/3395 [==============================] - 295s 87ms/sample - loss: 0.1090 - accuracy: 0.9723 - val_loss: 0.2389 - val_accuracy: 0.9390\n",
            "Epoch 2/10\n",
            "3395/3395 [==============================] - 288s 85ms/sample - loss: 0.0914 - accuracy: 0.9723 - val_loss: 0.2377 - val_accuracy: 0.9390\n",
            "Epoch 3/10\n",
            "3395/3395 [==============================] - 285s 84ms/sample - loss: 0.0876 - accuracy: 0.9723 - val_loss: 0.1829 - val_accuracy: 0.9390\n",
            "Epoch 4/10\n",
            "3395/3395 [==============================] - 280s 83ms/sample - loss: 0.0751 - accuracy: 0.9723 - val_loss: 0.2354 - val_accuracy: 0.9390\n",
            "Epoch 5/10\n",
            "3395/3395 [==============================] - 282s 83ms/sample - loss: 0.0760 - accuracy: 0.9723 - val_loss: 0.2009 - val_accuracy: 0.9390\n",
            "Epoch 6/10\n",
            "3395/3395 [==============================] - 282s 83ms/sample - loss: 0.0751 - accuracy: 0.9723 - val_loss: 0.2417 - val_accuracy: 0.9390\n",
            "Epoch 7/10\n",
            "3395/3395 [==============================] - 280s 83ms/sample - loss: 0.0670 - accuracy: 0.9723 - val_loss: 0.2459 - val_accuracy: 0.9390\n",
            "Epoch 8/10\n",
            "3395/3395 [==============================] - 280s 83ms/sample - loss: 0.0661 - accuracy: 0.9723 - val_loss: 0.3090 - val_accuracy: 0.9390\n",
            "Epoch 9/10\n",
            "3395/3395 [==============================] - 283s 83ms/sample - loss: 0.0603 - accuracy: 0.9723 - val_loss: 0.2044 - val_accuracy: 0.9390\n",
            "Epoch 10/10\n",
            "3395/3395 [==============================] - 281s 83ms/sample - loss: 0.0577 - accuracy: 0.9723 - val_loss: 0.1895 - val_accuracy: 0.9390\n",
            "ELMo_Accuracy: 97.231221\n"
          ]
        }
      ]
    },
    {
      "cell_type": "code",
      "source": [
        "##===============================ELMoModel Evaluation========================================\n",
        "with tf.Session() as sess:\n",
        "    sess.run(tf.global_variables_initializer())\n",
        "    sess.run(tf.tables_initializer())\n",
        "    # Here X_test, y_test are the test data points\n",
        "    predictions = ElMo_model.predict(X_test)\n",
        "    predictions = predictions[:, 0]\n",
        "\n",
        "    # CBOW Tst Accuracy\n",
        "    ELMO_Test_Accuracy = accuracy_score(y10_test, np.round(abs(predictions)))\n",
        "    print('ELMO_Test_Accuracy: %f' % ELMO_Test_Accuracy)\n",
        "\n",
        "    # Calculating the precision score of classifier\n",
        "    ELMO_Precision = precision_score(y10_test, np.round(abs(predictions)))\n",
        "    print('ELMO_Precision: %f' % ELMO_Precision)\n",
        "\n",
        "    # Calculating the recall score of classifier\n",
        "    ELMO_Recall = recall_score(y10_test, np.round(abs(predictions)))\n",
        "    print('ELMO_Recall: %f' % ELMO_Recall)\n",
        "\n",
        "    # Calculating the F1 score of classifier\n",
        "    ELMO_F1_Score = f1_score(y10_test, np.round(abs(predictions)))\n",
        "    print('ELMO_F1_Score: %f' % ELMO_F1_Score)\n",
        "\n",
        "\n",
        "\n",
        "\n",
        "data = {\n",
        "    'Name': [\"ELMo_Accuracy\", \"ELMO_Test_Accuracy\", \"ELMO_Precision\", \"ELMO_Recall\", \"ELMO_F1_Score\"],\n",
        "    'Scores': [ELMo10_Accuracy, ELMO_Test_Accuracy, ELMO_Precision, ELMO_Recall, ELMO_F1_Score] #\n",
        "}\n",
        "df = pd.DataFrame(data)\n",
        "df.to_excel('ELMo_Scores_file.xlsx', index=False)\n",
        "\n",
        "\n"
      ],
      "metadata": {
        "colab": {
          "base_uri": "https://localhost:8080/"
        },
        "id": "paOXImYMoZRG",
        "outputId": "0d2740ce-e29f-4b46-d39f-28e60bc78ec3"
      },
      "execution_count": 24,
      "outputs": [
        {
          "output_type": "stream",
          "name": "stderr",
          "text": [
            "/usr/local/lib/python3.10/dist-packages/keras/src/engine/training_v1.py:2359: UserWarning: `Model.state_updates` will be removed in a future version. This property should not be used in TensorFlow 2.0, as `updates` are applied automatically.\n",
            "  updates=self.state_updates,\n"
          ]
        },
        {
          "output_type": "stream",
          "name": "stdout",
          "text": [
            "ELMO_Test_Accuracy: 0.757951\n",
            "ELMO_Precision: 0.757951\n",
            "ELMO_Recall: 1.000000\n",
            "ELMO_F1_Score: 0.862312\n"
          ]
        }
      ]
    },
    {
      "cell_type": "code",
      "source": [
        "with tf.Session() as sess:\n",
        "    sess.run(tf.global_variables_initializer())\n",
        "    sess.run(tf.tables_initializer())\n",
        "    # Here X_test, y_test are the test data points\n",
        "    predictions = ElMo_model.predict(X_test)\n",
        "    predictions = predictions[:, 0]\n",
        "\n",
        "    # CBOW Tst Accuracy\n",
        "    ELMO20_Test_Accuracy = accuracy_score(y20_test, np.round(abs(predictions)))\n",
        "    print('ELMO20_Test_Accuracy: %f' % ELMO20_Test_Accuracy)\n",
        "\n",
        "    # Calculating the precision score of classifier\n",
        "    ELMO20_Precision = precision_score(y20_test, np.round(abs(predictions)))\n",
        "    print('ELMO20_Precision: %f' % ELMO20_Precision)\n",
        "\n",
        "    # Calculating the recall score of classifier\n",
        "    ELMO20_Recall = recall_score(y20_test, np.round(abs(predictions)))\n",
        "    print('ELMO20_Recall: %f' % ELMO20_Recall)\n",
        "\n",
        "    # Calculating the F1 score of classifier\n",
        "    ELMO20_F1_Score = f1_score(y20_test, np.round(abs(predictions)))\n",
        "    print('ELMO20_F1_Score: %f' % ELMO20_F1_Score)\n",
        "\n",
        "data20 = {\n",
        "    'Name': [\"ELMo20_Accuracy\", \"ELMO20_Test_Accuracy\", \"ELMO20_Precision\", \"ELMO20_Recall\", \"ELMO20_F1_Score\"],\n",
        "    'Scores': [ELMo20_Accuracy, ELMO20_Test_Accuracy, ELMO20_Precision, ELMO20_Recall, ELMO20_F1_Score] #\n",
        "}\n",
        "df = pd.DataFrame(data20)\n",
        "df.to_excel('ELMo20_Scores_file.xlsx', index=False)\n"
      ],
      "metadata": {
        "colab": {
          "base_uri": "https://localhost:8080/"
        },
        "id": "47Dtlk3zA2qf",
        "outputId": "c828fc0d-6fac-4d46-acb0-55572197b2dd"
      },
      "execution_count": 25,
      "outputs": [
        {
          "output_type": "stream",
          "name": "stdout",
          "text": [
            "ELMO20_Test_Accuracy: 0.854240\n",
            "ELMO20_Precision: 0.854240\n",
            "ELMO20_Recall: 1.000000\n",
            "ELMO20_F1_Score: 0.921391\n"
          ]
        }
      ]
    },
    {
      "cell_type": "code",
      "source": [
        "\n",
        "with tf.Session() as sess:\n",
        "    sess.run(tf.global_variables_initializer())\n",
        "    sess.run(tf.tables_initializer())\n",
        "    # Here X_test, y_test are the test data points\n",
        "    predictions = ElMo_model.predict(X_test)\n",
        "    predictions = predictions[:, 0]\n",
        "\n",
        "    # CBOW Tst Accuracy\n",
        "    ELMO30_Test_Accuracy = accuracy_score(y30_test, np.round(abs(predictions)))\n",
        "    print('ELMO30_Test_Accuracy: %f' % ELMO30_Test_Accuracy)\n",
        "\n",
        "    # Calculating the precision score of classifier\n",
        "    ELMO30_Precision = precision_score(y30_test, np.round(abs(predictions)))\n",
        "    print('ELMO30_Precision: %f' % ELMO30_Precision)\n",
        "\n",
        "    # Calculating the recall score of classifier\n",
        "    ELMO30_Recall = recall_score(y30_test, np.round(abs(predictions)))\n",
        "    print('ELMO30_Recall: %f' % ELMO30_Recall)\n",
        "\n",
        "    # Calculating the F1 score of classifier\n",
        "    ELMO30_F1_Score = f1_score(y30_test, np.round(abs(predictions)))\n",
        "    print('ELMO30_F1_Score: %f' % ELMO30_F1_Score)\n",
        "\n",
        "data30 = {\n",
        "    'Name': [\"ELMo30_Accuracy\", \"ELMO30_Test_Accuracy\", \"ELMO30_Precision\", \"ELMO30_Recall\", \"ELMO30_F1_Score\"],\n",
        "    'Scores': [ELMo30_Accuracy, ELMO30_Test_Accuracy, ELMO30_Precision, ELMO30_Recall, ELMO30_F1_Score] #\n",
        "}\n",
        "df = pd.DataFrame(data30)\n",
        "df.to_excel('ELMo30_Scores_file.xlsx', index=False)"
      ],
      "metadata": {
        "colab": {
          "base_uri": "https://localhost:8080/"
        },
        "id": "fgyYdfylBCBk",
        "outputId": "456b8d84-33c6-45d5-8f53-fe671ff6142d"
      },
      "execution_count": 26,
      "outputs": [
        {
          "output_type": "stream",
          "name": "stdout",
          "text": [
            "ELMO30_Test_Accuracy: 0.930212\n",
            "ELMO30_Precision: 0.930212\n",
            "ELMO30_Recall: 1.000000\n",
            "ELMO30_F1_Score: 0.963844\n"
          ]
        }
      ]
    }
  ]
}